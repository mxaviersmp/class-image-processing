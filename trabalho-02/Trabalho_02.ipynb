{
 "cells": [
  {
   "cell_type": "markdown",
   "id": "5ac77286",
   "metadata": {},
   "source": [
    "MC920 / MO443 (Introdução ao Processamento Digital de Imagem)\n",
    "\n",
    "Prof. Hélio Pedrini\n",
    "\n",
    "Matheus Xavier Sampaio - RA 220092"
   ]
  },
  {
   "cell_type": "markdown",
   "id": "3f39dd48",
   "metadata": {},
   "source": [
    "# Instruções \n",
    "\n",
    "## Arquivos\n",
    "\n",
    "O arquivo `Trabalho_02.ipynb` possui um notebook executável com os códigos e o relatório do trabalho.\n",
    "\n",
    "O arquivo `Trabalho_02.pdf` possui o notebook em formato `pdf` com o relatório do trabalho.\n",
    "\n",
    "O arquivo `Trabalho_02.py` possui um script com os códigos do trabalho.\n",
    "\n",
    "## Ambiente e Execução\n",
    "\n",
    "O arquivo `environment.yml` pode ser utilizado para criar um ambiente `conda` com todas as dependencias para executar o trabalho.\n",
    "\n",
    "Caso tenha o Anaconda instalado, basta executar o comando: `$ conda env create`\n",
    "\n",
    "Apos instalar o ambiente, ative usando o comando: `$ conda activate mo443`\n",
    "\n",
    "Por fim, execute o script python para criar as imagens com a visualização de cada questão: `$ python Trabalho_02.py`. Para ver as opções possíveis para a execução do script, execute `$ python Trabalho_02.py -h`.\n",
    "\n",
    "Se preferir, abra o notebook e execute uma célula por vez."
   ]
  },
  {
   "cell_type": "code",
   "execution_count": null,
   "id": "70fa03b6",
   "metadata": {},
   "outputs": [],
   "source": [
    "import cv2\n",
    "import requests\n",
    "import matplotlib.pyplot as plt\n",
    "import numpy as np\n",
    "\n",
    "from urllib.parse import urlparse\n",
    "from pathlib import Path"
   ]
  },
  {
   "cell_type": "code",
   "execution_count": null,
   "id": "ea553d96",
   "metadata": {},
   "outputs": [],
   "source": [
    "plt.rcParams['figure.dpi'] = 100\n",
    "plt.rcParams['savefig.dpi'] = 100"
   ]
  },
  {
   "cell_type": "code",
   "execution_count": null,
   "id": "216c197e",
   "metadata": {},
   "outputs": [],
   "source": [
    "def image_from_url_or_disk(path):\n",
    "    if urlparse(path).scheme:\n",
    "        resp = requests.get(path)\n",
    "        image = np.asarray(bytearray(resp.content), dtype=\"uint8\")\n",
    "        image = cv2.imdecode(image, cv2.IMREAD_GRAYSCALE)\n",
    "    elif Path(path).exists():\n",
    "        image = cv2.imread(path, cv2.IMREAD_GRAYSCALE)\n",
    "    else:\n",
    "        raise ValueError('caminho deve ser url ou arquivo')\n",
    "    return image"
   ]
  },
  {
   "cell_type": "code",
   "execution_count": null,
   "id": "89f1ae1f",
   "metadata": {},
   "outputs": [],
   "source": [
    "def show_images(grid, images, titles, filepath):\n",
    "    plt.figure(figsize=(19, 10))\n",
    "    for i, (img, title) in enumerate(zip(images, titles), start=1):\n",
    "        plt.subplot(*grid, i)\n",
    "        plt.imshow(img, cmap='gray', vmin=0, vmax=255)\n",
    "        plt.title(title)\n",
    "        plt.axis('off')\n",
    "    plt.suptitle(filepath)\n",
    "    plt.savefig(f'{filepath}.png', transparent=False)\n",
    "    plt.show()"
   ]
  },
  {
   "cell_type": "code",
   "execution_count": null,
   "id": "f62a8deb",
   "metadata": {},
   "outputs": [],
   "source": [
    "image = image_from_url_or_disk('https://www.ic.unicamp.br/~helio/imagens_png/baboon.png')\n",
    "# image = image_from_url_or_disk('./bike.jpeg')\n",
    "# image = image_from_url_or_disk('./engine.jpeg')"
   ]
  },
  {
   "cell_type": "code",
   "execution_count": null,
   "id": "45bf78d1",
   "metadata": {},
   "outputs": [],
   "source": [
    "empty_img = np.full_like(image, 255, dtype=np.uint8)"
   ]
  },
  {
   "cell_type": "markdown",
   "id": "d7934f6e",
   "metadata": {},
   "source": [
    "# Transformada rápida de Fourier"
   ]
  },
  {
   "cell_type": "code",
   "execution_count": null,
   "id": "00c2dbee",
   "metadata": {},
   "outputs": [],
   "source": [
    "show_images((1, 1), [image], [''], 'imagem_original')"
   ]
  },
  {
   "cell_type": "markdown",
   "id": "03e86910",
   "metadata": {},
   "source": [
    "## Espectro de Fourier\n",
    "\n",
    "Aplicar a transformada rápida de Fourier (do inglês, Fast Fourier Transform - FFT) em imagens digitais, convertendo-as para o domı́nio de frequência."
   ]
  },
  {
   "cell_type": "code",
   "execution_count": null,
   "id": "c08b0551",
   "metadata": {},
   "outputs": [],
   "source": [
    "def image_fft_spectrum(image):\n",
    "    img_fft = cv2.dft(np.float32(image), flags=cv2.DFT_COMPLEX_OUTPUT)\n",
    "    img_fft_shift = np.fft.fftshift(img_fft)\n",
    "    magnitude_spectrum = cv2.magnitude(img_fft_shift[:,:,0], img_fft_shift[:,:,1])\n",
    "    magnitude_spectrum = 20 * np.log(magnitude_spectrum)\n",
    "    return img_fft_shift, magnitude_spectrum\n",
    "\n",
    "def fft_image(img_fft_shift, normalize=True):\n",
    "    f_ishift = np.fft.ifftshift(img_fft_shift)\n",
    "    img_back = cv2.idft(f_ishift)\n",
    "    img_back = cv2.magnitude(img_back[:,:,0], img_back[:,:,1])\n",
    "    if normalize:\n",
    "        img_back = cv2.normalize(img_back, None, 0, 255, cv2.NORM_MINMAX).astype(np.uint8)\n",
    "    return img_back"
   ]
  },
  {
   "cell_type": "code",
   "execution_count": null,
   "id": "7b7609da",
   "metadata": {},
   "outputs": [],
   "source": [
    "img_fft_shift, magnitude_spectrum = image_fft_spectrum(image)\n",
    "img_back_norm = fft_image(img_fft_shift)\n",
    "\n",
    "show_images(\n",
    "    (1, 3), \n",
    "    [image, magnitude_spectrum, img_back_norm],\n",
    "    ['imagem original', 'espectro de Fourier', 'imagem após'],\n",
    "    'imagem_original_e_transformada'\n",
    ")"
   ]
  },
  {
   "cell_type": "markdown",
   "id": "3bca2879",
   "metadata": {},
   "source": [
    "**Idéia:**\n",
    "É possível utilizar das implementações da Transformada discreta de Fourier para calcular o espectro de fourrier de uma imagem.\n",
    "Com isso, é possível visualizar a imagem no domínio de frequência, e visualizar a imagem no domínio do espaço após aplicar algum filtro no domínio da frequência.\n",
    "\n",
    "**Implementação:**\n",
    "Primeiramente é aplicada a Transformada discreta de Fourier na imagem (`cv2.dft`), então deslocando o componente de frequência para o centro do espectro (`np.fft.fftshift`).\n",
    "Apos isso, é calculada a magnitude de cada ponto (`cv2.magnitude`), aplicando o log as magnitudes para reduzir a distorção e amplificar a diferença entre as magnitudes (`np.log`).\n",
    "\n",
    "Com a transformada e o espectro calculados, para converter a transformada para imagem no domínio de espaçço, é aplicada o inverso da centralização do componente (`np.fft.ifftshift`), o inverso da Transformada discreta de Fourier (`cv2.idft`), calculando as magnitudes e normalizando a imagem.\n",
    "\n",
    "**Chamada e parâmetros:**\n",
    "A função `image_fft_spectrum` recebe a imagem original, retornando a imagem transformada e o espectro de magnitude.\n",
    "\n",
    "A função `fft_image` recebe uma imagem transformada e retorna a imagem correspondente a transformação.\n",
    "\n",
    "**Resultados:**\n",
    "A imagem do espectro mostra uma visualização da imagem no domínio da frequência. É possível observar maior intensidade no centro do espectro, o que indica maior concentração de frequencias mais baixar, mas alguns pontos nas frequências mais altas podem ser observados. Outra observação são as linhas horizontal e vertical cortando o centro do espectro, indicando bordas horizontais e verticais no domínio do espaço, com mais prevalencia de bordas horizontais.\n",
    "Converter o domínio de frequência para o domínio do espaço sem aplicar nenhum filtro resulta na imagem original."
   ]
  },
  {
   "cell_type": "markdown",
   "id": "dea3f352",
   "metadata": {},
   "source": [
    "## Núcleo dos filtros\n",
    "\n",
    "Filtros passa-baixa, passa-alta, passa-faixa e rejeita-faixa em imagens monocromáticas"
   ]
  },
  {
   "cell_type": "code",
   "execution_count": null,
   "id": "41049041",
   "metadata": {},
   "outputs": [],
   "source": [
    "def kernels(image, radius, thickness):\n",
    "    w, h = image.shape\n",
    "\n",
    "    passa_baixa = cv2.circle(np.zeros_like(image), (h//2, w//2), radius, 1, -1).astype(np.uint8)\n",
    "    passa_alta = (passa_baixa * -1) + 1\n",
    "\n",
    "    passa_faixa = cv2.circle(np.zeros_like(image), (h//2, w//2), radius, 1, thickness).astype(np.uint8)\n",
    "    rejeita_faixa = (passa_faixa * -1) + 1\n",
    "    \n",
    "    return passa_baixa, passa_alta, passa_faixa, rejeita_faixa"
   ]
  },
  {
   "cell_type": "code",
   "execution_count": null,
   "id": "8e237887-9343-4a69-87ad-db9ed110636d",
   "metadata": {},
   "outputs": [],
   "source": [
    "passa_baixa, passa_alta, passa_faixa, rejeita_faixa = kernels(magnitude_spectrum, 60, 80)\n",
    "\n",
    "show_images(\n",
    "    (1, 4), \n",
    "    [\n",
    "        magnitude_spectrum * passa_baixa, magnitude_spectrum * passa_alta,\n",
    "        magnitude_spectrum * passa_faixa, magnitude_spectrum * rejeita_faixa\n",
    "    ],\n",
    "    ['núcleo passa baixa', 'núcleo passa alta', 'núcleo passa faixa', 'núcleo rejeita faixa'],\n",
    "    'nucleos_filtros'\n",
    ")"
   ]
  },
  {
   "cell_type": "markdown",
   "id": "14ea946f",
   "metadata": {},
   "source": [
    "**Idéia:**\n",
    "Para criar os filtros é possível utilizar implementações de criar círculos. Sobrepondo esses filtros no espectro de magnitude permite visualizar as frequências que serão filtradas.\n",
    "\n",
    "**Implementação:**\n",
    "Calculando o centro da imagem, é utilizada a função `cv2.circle` para criar os núcleos dos filtros. Para o passa baixa, é criado um círculo cheio, já para o passa baixa é criado um círculo com bordas, que permite excluir a faixa central. Os filtros passa alta e rejeita faixa são apenas o inverso de seus correspondentes.\n",
    "\n",
    "**Chamada e parâmetros:**\n",
    "A função recebe a visualização do espectro de magnitude, o raio e a espessura do circulo, que serão utilizados para criar os núcleos dos filtros.\n",
    "\n",
    "**Resultados:**\n",
    "Observando as imagens é possível visualizar os filtros, e quais frequencias serão aceitas."
   ]
  },
  {
   "cell_type": "markdown",
   "id": "bd3995d3",
   "metadata": {},
   "source": [
    "## Filtragem das imagens no domı́nio de frequência\n",
    "\n",
    "Possibilita a alteração de seus valores originais em novas\n",
    "informações, de forma a atenuar ruı́do nas imagens, suavizar os dados, aumentar o contraste,\n",
    "realçar detalhes (bordas) das imagens, entre outras operações"
   ]
  },
  {
   "cell_type": "code",
   "execution_count": null,
   "id": "9a3c7100-d0d0-421f-8252-d6852795d525",
   "metadata": {},
   "outputs": [],
   "source": [
    "def filtragem(img_fft_shift, kernel):\n",
    "    if img_fft_shift.shape[:2] != kernel.shape:\n",
    "        raise ValueError('Transformada e filtro devem possuir dimensões compatíveis.')\n",
    "    mask = np.zeros_like(img_fft_shift, np.uint8)\n",
    "    mask[:,:,0] = kernel\n",
    "    mask[:,:,1] = kernel\n",
    "    return fft_image(img_fft_shift * mask)"
   ]
  },
  {
   "cell_type": "code",
   "execution_count": null,
   "id": "55589782",
   "metadata": {},
   "outputs": [],
   "source": [
    "show_images(\n",
    "    (1, 4), \n",
    "    [\n",
    "        filtragem(img_fft_shift, passa_baixa),\n",
    "        filtragem(img_fft_shift, passa_alta),\n",
    "        filtragem(img_fft_shift, passa_faixa),\n",
    "        filtragem(img_fft_shift, rejeita_faixa)\n",
    "    ],\n",
    "    [\n",
    "        'imagem após filtragem passa baixa',\n",
    "        'imagem após filtragem passa alta',\n",
    "        'imagem após filtragem passa faixa',\n",
    "        'imagem após filtragem rejeita faixa'\n",
    "    ],\n",
    "    'filtragens'\n",
    ")"
   ]
  },
  {
   "cell_type": "markdown",
   "id": "782379fb",
   "metadata": {},
   "source": [
    "**Idéia:**\n",
    "Usando os filtros, é possível modificar o domínio da frequência, aplicando as transformações e modificando a imagem no domínio do espaço.\n",
    "\n",
    "**Implementação:**\n",
    "É criada uma mascara nas mesmas dimensões da transformada, e copiar o filtro para cada dimensão.\n",
    "Com isso, é multiplicada a transformada pela mascara e convertido o resultado para o domínio do espaço.\n",
    "\n",
    "**Chamada e parâmetros:**\n",
    "A função recebe a imagem transformada e o filtro que será utilizado.\n",
    "\n",
    "**Limitações:**\n",
    "O filtro deve possuir dimensão compatível com a transformada. Como a transformada possui dimensões `(h, w, 2)`, o filtro deve possuir dimensão `(h, w)`.\n",
    "\n",
    "**Resultados:**\n",
    "Na imagem filtrada com passa baixa, é possível observar um 'borramento' da imagem pelo enfraquecimento das bordas, o que se dá pelo filtro remover frequencias mais altas, geralmente encontradas nas bordas da imagem.\n",
    "\n",
    "Na imagem filtrada com passa alta, visualizamos as bordas e transições que foram excluídas com o filtro passa baixa, observadas na transição dos olhos e nariz, assum como na pelugem.\n",
    "\n",
    "Na imagem filtrada com passa faixa, devido a configuração do filtro, observamos a formação da imagem com algumas sem as frequencias mais baixas, e a perda de algumas transições devido a remoção das frequências mais altas.\n",
    "\n",
    "Na imagem filtrada com rejeita faixa, devido a configuração do filtro, com a remoção das freqências 'intermediárias', observamos a imagem borrada, dexido as frequencias baixas, com uma sobreposição das bordas e transições de forma atênuada, devido as frequências mais altas."
   ]
  },
  {
   "cell_type": "markdown",
   "id": "e1fe0fc8",
   "metadata": {},
   "source": [
    "## Compressão de imagem\n",
    "\n",
    "Diferentes estratégias podem ser aplicadas às imagens, tal\n",
    "como a remoção de coeficientes cujas magnitudes são menores do que um determinado limiar\n",
    "(atribuindo-se valores iguais a 0 a eles). Apresente os histogramas das imagens antes e após\n",
    "a compressão."
   ]
  },
  {
   "cell_type": "code",
   "execution_count": null,
   "id": "7eeb9fa1-c7a8-4c9b-9187-7b14828d5f91",
   "metadata": {},
   "outputs": [],
   "source": [
    "def compress_image_fft(img_fft_shift, tresh):\n",
    "    if not 0 <= tresh <= 100:\n",
    "        raise ValueError('Limiar deve estar entre 0 e 100')\n",
    "    abs_frequencies = np.abs(img_fft_shift)\n",
    "    tresh_mask = abs_frequencies >= np.percentile(abs_frequencies.flatten(), 100 - tresh)\n",
    "    compressed_img = fft_image(img_fft_shift * tresh_mask)\n",
    "    return tresh_mask, compressed_img"
   ]
  },
  {
   "cell_type": "code",
   "execution_count": null,
   "id": "49b1ee92",
   "metadata": {},
   "outputs": [],
   "source": [
    "tresh = 0.5\n",
    "tresh_mask, compressed_img = compress_image_fft(img_fft_shift, tresh)\n",
    "\n",
    "plt.figure(figsize=(8, 4))\n",
    "plt.subplot(1, 2, 1)\n",
    "plt.imshow(magnitude_spectrum, cmap='gray', vmin=0, vmax=255)\n",
    "plt.title('espectro de fourier')\n",
    "plt.subplot(1, 2, 2)\n",
    "plt.imshow(np.any(tresh_mask, axis=-1) * magnitude_spectrum, cmap='gray')\n",
    "plt.title('mascara de limiar para compressão')\n",
    "\n",
    "plt.show()\n",
    "\n",
    "plt.figure(figsize=(15, 8))\n",
    "plt.subplot(2, 2, 1)\n",
    "plt.imshow(image, cmap='gray', vmin=0, vmax=255)\n",
    "plt.title('imagem original')\n",
    "plt.axis('off')\n",
    "plt.subplot(2, 2, 2)\n",
    "plt.hist(image.flatten(), bins=256);\n",
    "plt.title('histograma da imagem original')\n",
    "\n",
    "plt.subplot(2, 2, 3)\n",
    "plt.imshow(compressed_img, cmap='gray', vmin=0, vmax=255)\n",
    "plt.title(f'imagem comprimida mantendo {tresh}%')\n",
    "plt.axis('off')\n",
    "plt.subplot(2, 2, 4)\n",
    "plt.hist(compressed_img.flatten(), bins=256)\n",
    "plt.title('histograma da imagem comprimida')\n",
    "\n",
    "plt.suptitle('compressao_de_imagem')\n",
    "plt.savefig('compressao_de_imagem.png', transparent=False)\n",
    "plt.show()"
   ]
  },
  {
   "cell_type": "markdown",
   "id": "60b725d9",
   "metadata": {},
   "source": [
    "**Idéia:**\n",
    "É possível comprimir a imagem manendo as `n` porcento magnitudes com menores coeficientes, permitindo observar o quanto de informação da imagem pode ser mantido.\n",
    "\n",
    "**Implementação:**\n",
    "A partir da transformada é calculado o valor absoluto de cada coeficiente e ordenados apos redimensionar para 1 dimensão.\n",
    "Com isso, encontramos o valor que representa o `n` percentil, sendo este o limiar. Esse valor é utilizado para criar uma mascara que irá filtrar todas as frequências com valor inferiores a este.\n",
    "A mascara é então usada para filtrar o domínio da frequencia, que será convertido para o domínio do espaço, resultando na imagem com menos informação.\n",
    "\n",
    "**Chamada e parâmetros:**\n",
    "Transformada da imagem e limiar de compressão.\n",
    "\n",
    "**Limitações:**\n",
    "Limiar deve estar entre 0 e 100.\n",
    "\n",
    "**Resultados:**\n",
    "A imagem comprimida demonstra que, mantendo apenas 0.5% da informação contida na imagem original ainda é possível distiguir bem a imagem, enquanto os histogramas exibem como a distribuição de pixels muda da imagem original para a comprimida."
   ]
  }
 ],
 "metadata": {
  "kernelspec": {
   "display_name": "Python 3 (ipykernel)",
   "language": "python",
   "name": "python3"
  },
  "language_info": {
   "codemirror_mode": {
    "name": "ipython",
    "version": 3
   },
   "file_extension": ".py",
   "mimetype": "text/x-python",
   "name": "python",
   "nbconvert_exporter": "python",
   "pygments_lexer": "ipython3",
   "version": "3.9.7"
  }
 },
 "nbformat": 4,
 "nbformat_minor": 5
}
